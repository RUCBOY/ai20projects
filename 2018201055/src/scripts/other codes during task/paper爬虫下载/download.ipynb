{
 "cells": [
  {
   "cell_type": "code",
   "execution_count": 44,
   "metadata": {},
   "outputs": [],
   "source": [
    "import requests\n",
    "from bs4 import BeautifulSoup"
   ]
  },
  {
   "cell_type": "code",
   "execution_count": 45,
   "metadata": {},
   "outputs": [],
   "source": [
    "lines=open('paperlink2.txt').readlines()\n",
    "f=open('paperlink2.txt')"
   ]
  },
  {
   "cell_type": "code",
   "execution_count": 46,
   "metadata": {},
   "outputs": [
    {
     "name": "stdout",
     "output_type": "stream",
     "text": [
      "[0, 1, 2, 3, 4, 5, 6, 7, 8, 9, 10, 11, 12, 13, 14, 15, 16, 17, 18, 19, 20, 21, 22, 23, 24, 25, 26, 27, 28, 29, 30, 31, 32, 33, 34, 35, 36, 37, 38, 39, 40, 41, 42, 43, 44, 45, 46, 47, 48, 49, 50, 51, 52, 53, 54, 55, 56, 57, 58, 59, 60, 61, 62, 63, 64]\n"
     ]
    }
   ],
   "source": [
    "fpname=open('papername2.txt').readlines()\n",
    "namelist=[]\n",
    "downloadlist=[]\n",
    "select_num=0\n",
    "for i in fpname:\n",
    "    i=i.strip('\\n')\n",
    "    s=i.replace(':','')\n",
    "    s=s.replace('*','')\n",
    "    s=s.replace('?','')\n",
    "    s=s.replace('\"','')\n",
    "    s=s.replace('/','')\n",
    "    \n",
    "    namelist.append(s)\n",
    "    downloadlist.append(select_num)\n",
    "    select_num +=1\n",
    "print(downloadlist)"
   ]
  },
  {
   "cell_type": "code",
   "execution_count": 47,
   "metadata": {},
   "outputs": [
    {
     "name": "stdout",
     "output_type": "stream",
     "text": [
      "['downloading ...', '锘縁ront Matter, Table of Contents, Preface, Symposium Organization.']\n",
      "['downloading ...', 'Graph Searches and Their End Vertices.']\n",
      "['downloading ...', 'Lower Bound for Non-Adaptive Estimation of the Number of Defective Items.']\n",
      "['downloading ...', 'A Polynomial-Delay Algorithm for Enumerating Connectors Under Various Connectivity Conditions.']\n",
      "['downloading ...', 'Top Tree Compression of Tries.']\n",
      "['downloading ...', 'Two Phase Transitions in Two-Way Bootstrap Percolation.']\n",
      "['downloading ...', 'Sliding Window Property Testing for Regular Languages.']\n",
      "['downloading ...', 'On the Hardness of Set Disjointness and Set Intersection with Bounded Universe.']\n",
      "['downloading ...', 'Gathering and Election by Mobile Robots in a Continuous Cycle.']\n",
      "['downloading ...', 'Strategy-Proof Approximation Algorithms for the Stable Marriage Problem with Ties and Incomplete Lists.']\n",
      "['downloading ...', 'Online Multidimensional Packing Problems in the Random-Order Model.']\n",
      "['downloading ...', 'Approximate Euclidean Shortest Paths in Polygonal Domains.']\n",
      "['downloading ...', 'Reachability in High Treewidth Graphs.']\n",
      "['downloading ...', 'Approximate Pricing in Networks How to Boost the Betweenness and Revenue of a Node.']\n",
      "['downloading ...', 'Slaying Hydrae Improved Bounds for Generalized k-Server in Uniform Metrics.']\n",
      "['downloading ...', 'Measure and Conquer for Max Hamming Distance XSAT.']\n",
      "['downloading ...', 'Cyclability in Graph Classes.']\n",
      "['downloading ...', 'Complexity of Linear Operators.']\n",
      "['downloading ...', 'New Results for the k-Secretary Problem.']\n",
      "['downloading ...', 'Triangle Estimation Using Tripartite Independent Set Queries.']\n",
      "['downloading ...', 'Step-By-Step Community Detection in Volume-Regular Graphs.']\n",
      "['downloading ...', 'Blocking Dominating Sets for H-Free Graphs via Edge Contractions.']\n",
      "['downloading ...', 'Internal Dictionary Matching.']\n",
      "['downloading ...', 'Approximating the Geometric Edit Distance.']\n",
      "['downloading ...', 'On Adaptivity Gaps of Influence Maximization Under the Independent Cascade Model with Full-Adoption Feedback.']\n",
      "['downloading ...', 'Minimum-Width Double-Strip and Parallelogram Annulus.']\n",
      "['downloading ...', 'Small Candidate Set for Translational Pattern Search.']\n",
      "['downloading ...', 'The Weighted k-Center Problem in Trees for Fixed k.']\n",
      "['downloading ...', 'Online Knapsack Problems with a Resource Buffer.']\n",
      "['downloading ...', 'Local Cliques in ER-Perturbed Random Geometric Graphs.']\n",
      "['downloading ...', 'Local Routing in Sparse and Lightweight Geometric Graphs.']\n",
      "['downloading ...', 'Searching for Cryptogenography Upper Bounds via Sum of Square Programming.']\n",
      "['downloading ...', 'On the Complexity of Lattice Puzzles.']\n",
      "['downloading ...', 'The IO Complexity of Hybrid Algorithms for Square Matrix Multiplication.']\n",
      "['downloading ...', 'Accurate MapReduce Algorithms for k-Median and k-Means in General Metric Spaces.']\n",
      "['downloading ...', 'On Optimal Balance in B-Trees What Does It Cost to Stay in Perfect Shape']\n",
      "['downloading ...', 'How Does Object Fatness Impact the Complexity of Packing in d Dimensions']\n",
      "['downloading ...', 'On One-Round Discrete Voronoi Games.']\n",
      "['downloading ...', 'On Explicit Branching Programs for the Rectangular Determinant and Permanent Polynomials.']\n",
      "['downloading ...', 'A Competitive Algorithm for Random-Order Stochastic Virtual Circuit Routing.']\n",
      "['downloading ...', 'An Improved Data Structure for Left-Right Maximal Generic Words Problem.']\n",
      "['downloading ...', 'Parameterized Complexity Classification of Deletion to List Matrix-Partition for Low-Order Matrices.']\n",
      "['downloading ...', 'The Generalized Microscopic Image Reconstruction Problem.']\n",
      "['downloading ...', 'Stabilization Time in Minority Processes.']\n",
      "['downloading ...', 'Parameterized Complexity of Stable Roommates with Ties and Incomplete Lists Through the Lens of Graph Parameters.']\n",
      "['downloading ...', 'Path and Ancestor Queries over Trees with Multidimensional Weight Vectors.']\n",
      "['downloading ...', 'A 2116-Approximation for the Minimum 3-Path Partition Problem.']\n",
      "['downloading ...', 'Efficiently Realizing Interval Sequences.']\n",
      "['downloading ...', 'Efficient Interactive Proofs for Linear Algebra.']\n",
      "['downloading ...', 'When Maximum Stable Set Can Be Solved in FPT Time.']\n",
      "['downloading ...', 'The k-Fr茅chet Distance How to Walk Your Dog While Teleporting.']\n",
      "['downloading ...', 'New Applications of Nearest-Neighbor Chains Euclidean TSP and Motorcycle Graphs.']\n",
      "['downloading ...', 'Efficient Circuit Simulation in MapReduce.']\n",
      "['downloading ...', 'Concurrent Distributed Serving with Mobile Servers.']\n",
      "['downloading ...', 'Tracking Paths in Planar Graphs.']\n",
      "['downloading ...', 'Distance Measures for Embedded Graphs.']\n",
      "['downloading ...', 'Online Algorithms for Warehouse Management.']\n",
      "['downloading ...', 'On Approximate Range Mode and Range Selection.']\n",
      "['downloading ...', 'External Memory Planar Point Location with Fast Updates.']\n",
      "['downloading ...', 'Minimizing and Computing the Inverse Geodesic Length on Trees.']\n",
      "['downloading ...', 'Result-Sensitive Binary Search with Noisy Information.']\n",
      "['downloading ...', 'Improved Algorithms for Clustering with Outliers.']\n",
      "['downloading ...', 'Unbounded Regions of High-Order Voronoi Diagrams of Lines and Segments in Higher Dimensions.']\n",
      "['downloading ...', 'Neighborhood Inclusions for Minimal Dominating Sets Enumeration Linear and Polynomial Delay Algorithms in P7-Free and P8-Free Chordal Graphs.']\n",
      "['downloading ...', 'Dual-Mode Greedy Algorithms Can Save Energy.']\n"
     ]
    }
   ],
   "source": [
    "count=0\n",
    "select_num=0\n",
    "for line in f:\n",
    "    if count == downloadlist[select_num]:\n",
    "        line=line[:]\n",
    "        \n",
    "        res=requests.get(line)\n",
    "        res.encoding='utf-8'\n",
    "        soup=BeautifulSoup(res.text,'html.parser')\n",
    "        table=soup.find('table')\n",
    "        pdf=table.find('a')['href']\n",
    "        out_fname='paper2/'+namelist[count]+'.pdf'\n",
    "        print([\"downloading ...\",namelist[count]])\n",
    "        check_http=pdf[0:6]\n",
    "        if check_http !=\"https:\":\n",
    "            pdf=\"https:\"+pdf\n",
    "        r=requests.get(pdf)\n",
    "        with open(out_fname,'wb')as f2:\n",
    "            f2.write(r.content)\n",
    "        select_num +=1\n",
    "        if select_num >= len(downloadlist):\n",
    "            break\n",
    "    count += 1\n",
    "f.close()"
   ]
  },
  {
   "cell_type": "code",
   "execution_count": null,
   "metadata": {},
   "outputs": [],
   "source": []
  }
 ],
 "metadata": {
  "kernelspec": {
   "display_name": "Python 3",
   "language": "python",
   "name": "python3"
  },
  "language_info": {
   "codemirror_mode": {
    "name": "ipython",
    "version": 3
   },
   "file_extension": ".py",
   "mimetype": "text/x-python",
   "name": "python",
   "nbconvert_exporter": "python",
   "pygments_lexer": "ipython3",
   "version": "3.8.3"
  }
 },
 "nbformat": 4,
 "nbformat_minor": 4
}
