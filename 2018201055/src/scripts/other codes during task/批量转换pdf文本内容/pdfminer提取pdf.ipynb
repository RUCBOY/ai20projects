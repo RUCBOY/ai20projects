{
 "cells": [
  {
   "cell_type": "code",
   "execution_count": 4,
   "metadata": {},
   "outputs": [],
   "source": [
    "from pdfminer.pdfparser import PDFParser\n",
    "from pdfminer.pdfdocument import PDFDocument\n",
    "from pdfminer.converter import PDFPageAggregator\n",
    "from pdfminer.pdfpage import PDFTextExtractionNotAllowed\n",
    "from pdfminer.pdfinterp import PDFResourceManager\n",
    "from pdfminer.pdfinterp import PDFPageInterpreter\n",
    "from pdfminer.pdfpage import PDFPage\n",
    "from pdfminer.pdfdevice import PDFDevice\n",
    "from pdfminer.layout import *\n",
    "import os"
   ]
  },
  {
   "cell_type": "code",
   "execution_count": 8,
   "metadata": {},
   "outputs": [
    {
     "name": "stdout",
     "output_type": "stream",
     "text": [
      "<LTPage(1) 0.000,0.000,595.276,841.890 rotate=0>\n",
      "<LTPage(2) 0.000,0.000,595.276,841.890 rotate=0>\n",
      "<LTPage(3) 0.000,0.000,595.276,841.890 rotate=0>\n",
      "<LTPage(4) 0.000,0.000,595.276,841.890 rotate=0>\n",
      "<LTPage(5) 0.000,0.000,595.276,841.890 rotate=0>\n",
      "<LTPage(6) 0.000,0.000,595.276,841.890 rotate=0>\n",
      "<LTPage(7) 0.000,0.000,595.276,841.890 rotate=0>\n",
      "<LTPage(8) 0.000,0.000,595.276,841.890 rotate=0>\n",
      "<LTPage(9) 0.000,0.000,595.276,841.890 rotate=0>\n",
      "<LTPage(10) 0.000,0.000,595.276,841.890 rotate=0>\n",
      "<LTPage(11) 0.000,0.000,595.276,841.890 rotate=0>\n",
      "<LTPage(12) 0.000,0.000,595.276,841.890 rotate=0>\n",
      "<LTPage(13) 0.000,0.000,595.276,841.890 rotate=0>\n",
      "<LTPage(14) 0.000,0.000,595.276,841.890 rotate=0>\n",
      "<LTPage(15) 0.000,0.000,595.276,841.890 rotate=0>\n",
      "<LTPage(16) 0.000,0.000,595.276,841.890 rotate=0>\n",
      "<LTPage(17) 0.000,0.000,595.276,841.890 rotate=0>\n",
      "<LTPage(18) 0.000,0.000,595.276,841.890 rotate=0>\n",
      "<LTPage(19) 0.000,0.000,595.276,841.890 rotate=0>\n",
      "<LTPage(20) 0.000,0.000,595.276,841.890 rotate=0>\n"
     ]
    }
   ],
   "source": [
    "fp=open(r'C:\\Users\\1\\Desktop\\Jupiter notebook\\爬取\\paper2/A 2116-Approximation for the Minimum 3-Path Partition Problem..pdf','rb')\n",
    "parser=PDFParser(fp)\n",
    "document=PDFDocument(parser)\n",
    "\n",
    "if not document.is_extractable:\n",
    "    raise PDFRextExtractionNotAllowed\n",
    "\n",
    "rsrcmgr=PDFResourceManager(caching=False)\n",
    "laparams=LAParams()\n",
    "device=PDFPageAggregator(rsrcmgr,laparams=laparams)\n",
    "interpreter=PDFPageInterpreter(rsrcmgr,device)\n",
    "\n",
    "for page in PDFPage.create_pages(document):\n",
    "    interpreter.process_page(page)\n",
    "    layout=device.get_result()\n",
    "    print(layout)\n",
    "    for x in layout:\n",
    "        if(isinstance(x,LTTextLine)):\n",
    "            print(x.get_text().encode('utf-8'))"
   ]
  },
  {
   "cell_type": "code",
   "execution_count": null,
   "metadata": {},
   "outputs": [],
   "source": []
  }
 ],
 "metadata": {
  "kernelspec": {
   "display_name": "Python 3",
   "language": "python",
   "name": "python3"
  },
  "language_info": {
   "codemirror_mode": {
    "name": "ipython",
    "version": 3
   },
   "file_extension": ".py",
   "mimetype": "text/x-python",
   "name": "python",
   "nbconvert_exporter": "python",
   "pygments_lexer": "ipython3",
   "version": "3.8.3"
  }
 },
 "nbformat": 4,
 "nbformat_minor": 4
}
