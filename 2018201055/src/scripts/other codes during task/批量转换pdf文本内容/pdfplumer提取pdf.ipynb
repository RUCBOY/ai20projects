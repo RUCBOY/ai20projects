{
 "cells": [
  {
   "cell_type": "code",
   "execution_count": 1,
   "metadata": {},
   "outputs": [],
   "source": [
    "import glob\n",
    "import os\n",
    "import pdfplumber"
   ]
  },
  {
   "cell_type": "code",
   "execution_count": 6,
   "metadata": {},
   "outputs": [
    {
     "data": {
      "text/plain": [
       "64"
      ]
     },
     "execution_count": 6,
     "metadata": {},
     "output_type": "execute_result"
    }
   ],
   "source": [
    "pdf_path=\"paper2/\"\n",
    "pdfs=glob.glob(\"{}/*.pdf\".format(pdf_path))\n",
    "len(pdfs)"
   ]
  },
  {
   "cell_type": "code",
   "execution_count": 3,
   "metadata": {},
   "outputs": [
    {
     "data": {
      "text/plain": [
       "['A 2116-Approximation for the Minimum 3-Path Partition Problem..pdf',\n",
       " 'A Competitive Algorithm for Random-Order Stochastic Virtual Circuit Routing..pdf',\n",
       " 'A Polynomial-Delay Algorithm for Enumerating Connectors Under Various Connectivity Conditions..pdf',\n",
       " 'Accurate MapReduce Algorithms for k-Median and k-Means in General Metric Spaces..pdf',\n",
       " 'An Improved Data Structure for Left-Right Maximal Generic Words Problem..pdf',\n",
       " 'Approximate Euclidean Shortest Paths in Polygonal Domains..pdf',\n",
       " 'Approximate Pricing in Networks How to Boost the Betweenness and Revenue of a Node..pdf',\n",
       " 'Approximating the Geometric Edit Distance..pdf',\n",
       " 'Blocking Dominating Sets for H-Free Graphs via Edge Contractions..pdf',\n",
       " 'Complexity of Linear Operators..pdf',\n",
       " 'Concurrent Distributed Serving with Mobile Servers..pdf',\n",
       " 'Cyclability in Graph Classes..pdf',\n",
       " 'Distance Measures for Embedded Graphs..pdf',\n",
       " 'Dual-Mode Greedy Algorithms Can Save Energy..pdf',\n",
       " 'Efficient Circuit Simulation in MapReduce..pdf',\n",
       " 'Efficient Interactive Proofs for Linear Algebra..pdf',\n",
       " 'Efficiently Realizing Interval Sequences..pdf',\n",
       " 'External Memory Planar Point Location with Fast Updates..pdf',\n",
       " 'Gathering and Election by Mobile Robots in a Continuous Cycle..pdf',\n",
       " 'Graph Searches and Their End Vertices..pdf',\n",
       " 'How Does Object Fatness Impact the Complexity of Packing in d Dimensions.pdf',\n",
       " 'Improved Algorithms for Clustering with Outliers..pdf',\n",
       " 'Internal Dictionary Matching..pdf',\n",
       " 'Local Cliques in ER-Perturbed Random Geometric Graphs..pdf',\n",
       " 'Local Routing in Sparse and Lightweight Geometric Graphs..pdf',\n",
       " 'Lower Bound for Non-Adaptive Estimation of the Number of Defective Items..pdf',\n",
       " 'Measure and Conquer for Max Hamming Distance XSAT..pdf',\n",
       " 'Minimizing and Computing the Inverse Geodesic Length on Trees..pdf',\n",
       " 'Minimum-Width Double-Strip and Parallelogram Annulus..pdf',\n",
       " 'Neighborhood Inclusions for Minimal Dominating Sets Enumeration Linear and Polynomial Delay Algorithms in P7-Free and P8-Free Chordal Graphs..pdf',\n",
       " 'New Applications of Nearest-Neighbor Chains Euclidean TSP and Motorcycle Graphs..pdf',\n",
       " 'New Results for the k-Secretary Problem..pdf',\n",
       " 'On Adaptivity Gaps of Influence Maximization Under the Independent Cascade Model with Full-Adoption Feedback..pdf',\n",
       " 'On Approximate Range Mode and Range Selection..pdf',\n",
       " 'On Explicit Branching Programs for the Rectangular Determinant and Permanent Polynomials..pdf',\n",
       " 'On One-Round Discrete Voronoi Games..pdf',\n",
       " 'On Optimal Balance in B-Trees What Does It Cost to Stay in Perfect Shape.pdf',\n",
       " 'On the Complexity of Lattice Puzzles..pdf',\n",
       " 'On the Hardness of Set Disjointness and Set Intersection with Bounded Universe..pdf',\n",
       " 'Online Algorithms for Warehouse Management..pdf',\n",
       " 'Online Knapsack Problems with a Resource Buffer..pdf',\n",
       " 'Online Multidimensional Packing Problems in the Random-Order Model..pdf',\n",
       " 'Parameterized Complexity Classification of Deletion to List Matrix-Partition for Low-Order Matrices..pdf',\n",
       " 'Parameterized Complexity of Stable Roommates with Ties and Incomplete Lists Through the Lens of Graph Parameters..pdf',\n",
       " 'Path and Ancestor Queries over Trees with Multidimensional Weight Vectors..pdf',\n",
       " 'Reachability in High Treewidth Graphs..pdf',\n",
       " 'Result-Sensitive Binary Search with Noisy Information..pdf',\n",
       " 'Searching for Cryptogenography Upper Bounds via Sum of Square Programming..pdf',\n",
       " 'Slaying Hydrae Improved Bounds for Generalized k-Server in Uniform Metrics..pdf',\n",
       " 'Sliding Window Property Testing for Regular Languages..pdf',\n",
       " 'Small Candidate Set for Translational Pattern Search..pdf',\n",
       " 'Stabilization Time in Minority Processes..pdf',\n",
       " 'Step-By-Step Community Detection in Volume-Regular Graphs..pdf',\n",
       " 'Strategy-Proof Approximation Algorithms for the Stable Marriage Problem with Ties and Incomplete Lists..pdf',\n",
       " 'The Generalized Microscopic Image Reconstruction Problem..pdf',\n",
       " 'The IO Complexity of Hybrid Algorithms for Square Matrix Multiplication..pdf',\n",
       " 'The k-Fr茅chet Distance How to Walk Your Dog While Teleporting..pdf',\n",
       " 'The Weighted k-Center Problem in Trees for Fixed k..pdf',\n",
       " 'Top Tree Compression of Tries..pdf',\n",
       " 'Tracking Paths in Planar Graphs..pdf',\n",
       " 'Triangle Estimation Using Tripartite Independent Set Queries..pdf',\n",
       " 'Two Phase Transitions in Two-Way Bootstrap Percolation..pdf',\n",
       " 'Unbounded Regions of High-Order Voronoi Diagrams of Lines and Segments in Higher Dimensions..pdf',\n",
       " 'When Maximum Stable Set Can Be Solved in FPT Time..pdf',\n",
       " '锘縁ront Matter, Table of Contents, Preface, Symposium Organization..pdf']"
      ]
     },
     "execution_count": 3,
     "metadata": {},
     "output_type": "execute_result"
    }
   ],
   "source": [
    "pdfnames=os.listdir(pdf_path)\n",
    "pdfnames"
   ]
  },
  {
   "cell_type": "code",
   "execution_count": null,
   "metadata": {},
   "outputs": [],
   "source": [
    "count=0\n",
    "\n",
    "for i in pdfs:\n",
    "    with pdfplumber.open(i) as pdf:\n",
    "        for page in pdf.pages:\n",
    "            text=page.extract_text()\n",
    "            txt_path=('papertxt2/'+pdfnames[count]+'.txt')\n",
    "            with open(txt_path,'a',encoding='utf-8') as f:\n",
    "                f.write(text)\n",
    "    count+=1"
   ]
  },
  {
   "cell_type": "code",
   "execution_count": null,
   "metadata": {},
   "outputs": [],
   "source": []
  }
 ],
 "metadata": {
  "kernelspec": {
   "display_name": "Python 3",
   "language": "python",
   "name": "python3"
  },
  "language_info": {
   "codemirror_mode": {
    "name": "ipython",
    "version": 3
   },
   "file_extension": ".py",
   "mimetype": "text/x-python",
   "name": "python",
   "nbconvert_exporter": "python",
   "pygments_lexer": "ipython3",
   "version": "3.8.3"
  }
 },
 "nbformat": 4,
 "nbformat_minor": 4
}
